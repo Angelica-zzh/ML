{
 "cells": [
  {
   "cell_type": "code",
   "execution_count": 20,
   "metadata": {},
   "outputs": [],
   "source": [
    "import numpy as np\n",
    "import pandas as pd\n",
    "import matplotlib.pyplot as plt\n",
    "from scipy.io import loadmat\n",
    "import seaborn as sns\n",
    "import scipy.optimize as opt"
   ]
  },
  {
   "cell_type": "code",
   "execution_count": 21,
   "metadata": {},
   "outputs": [
    {
     "data": {
      "text/plain": [
       "((12,), (12,), (21,), (21,), (21,), (21,))"
      ]
     },
     "execution_count": 21,
     "metadata": {},
     "output_type": "execute_result"
    }
   ],
   "source": [
    "data = loadmat('/home/teemo/ML/data/ex5data1.mat')\n",
    "X,y,Xval,yval,Xtest,ytest = map(np.ravel,[data['X'],data['y'],data['Xval'],data['yval'],data['Xtest'],data['ytest']])\n",
    "X.shape,y.shape,Xval.shape,yval.shape,Xtest.shape,ytest.shape"
   ]
  },
  {
   "cell_type": "code",
   "execution_count": 22,
   "metadata": {},
   "outputs": [
    {
     "data": {
      "text/plain": [
       "<function matplotlib.pyplot.show(close=None, block=None)>"
      ]
     },
     "execution_count": 22,
     "metadata": {},
     "output_type": "execute_result"
    },
    {
     "data": {
      "image/png": "[encoded data removed]",
      "text/plain": [
       "<Figure size 864x576 with 1 Axes>"
      ]
     },
     "metadata": {
      "needs_background": "light"
     },
     "output_type": "display_data"
    }
   ],
   "source": [
    "fig,ax = plt.subplots(figsize = (12,8))\n",
    "ax.scatter(X,y)\n",
    "ax.set_xlabel('water_level')\n",
    "ax.set_ylabel('flow')\n",
    "plt.show"
   ]
  },
  {
   "cell_type": "code",
   "execution_count": 23,
   "metadata": {},
   "outputs": [
    {
     "data": {
      "text/plain": [
       "((12, 2), (21, 2), (21, 2))"
      ]
     },
     "execution_count": 23,
     "metadata": {},
     "output_type": "execute_result"
    }
   ],
   "source": [
    "X, Xval, Xtest = [np.insert(x.reshape(x.shape[0], 1), 0, np.ones(x.shape[0]), axis=1) for x in (X, Xval, Xtest)]\n",
    "X.shape, Xval.shape, Xtest.shape"
   ]
  },
  {
   "cell_type": "code",
   "execution_count": 24,
   "metadata": {},
   "outputs": [],
   "source": [
    "def cost(theta,X,y):\n",
    "    m = X.shape[0]\n",
    "    \n",
    "    inner  = X @ theta - y \n",
    "    \n",
    "    square_sum = inner.T @ inner\n",
    "    cost = square_sum / (2 * m)\n",
    "    \n",
    "    return cost\n",
    "    "
   ]
  },
  {
   "cell_type": "code",
   "execution_count": 25,
   "metadata": {},
   "outputs": [],
   "source": [
    "#正则化线性回归代价函数\n",
    "def costReg(theta,X,y,reg = 1):\n",
    "    m = X.shape[0]\n",
    "    regularized_term = (reg / (2 * m)) * np.power(theta[1:],2).sum()\n",
    "    return cost(theta,X,y) + regularized_term\n",
    "    \n",
    "    "
   ]
  },
  {
   "cell_type": "code",
   "execution_count": 26,
   "metadata": {},
   "outputs": [
    {
     "data": {
      "text/plain": [
       "303.9931922202643"
      ]
     },
     "execution_count": 26,
     "metadata": {},
     "output_type": "execute_result"
    }
   ],
   "source": [
    "theta = np.ones(X.shape[1])\n",
    "costReg(theta,X,y,1)"
   ]
  },
  {
   "cell_type": "code",
   "execution_count": 27,
   "metadata": {},
   "outputs": [],
   "source": [
    "#正则化线性回归的梯度\n",
    "def gradient(theta,X,y):\n",
    "    m = X.shape[0]\n",
    "    \n",
    "    inner = X.T @(X @ theta - y)\n",
    "    return inner / m"
   ]
  },
  {
   "cell_type": "code",
   "execution_count": 28,
   "metadata": {},
   "outputs": [],
   "source": [
    "def gradientReg(theta,X,y,reg):\n",
    "    m = X.shape[0]\n",
    "    \n",
    "    regularized_term = theta.copy()\n",
    "    regularized_term[0] = 0\n",
    "    \n",
    "    regularized_term = (reg / m) * regularized_term\n",
    "    \n",
    "    return gradient(theta,X,y) + regularized_term\n",
    "    \n",
    "    "
   ]
  },
  {
   "cell_type": "code",
   "execution_count": 29,
   "metadata": {},
   "outputs": [
    {
     "data": {
      "text/plain": [
       "array([-15.30301567, 598.25074417])"
      ]
     },
     "execution_count": 29,
     "metadata": {},
     "output_type": "execute_result"
    }
   ],
   "source": [
    "gradientReg(theta,X,y,1)"
   ]
  },
  {
   "cell_type": "code",
   "execution_count": 35,
   "metadata": {},
   "outputs": [
    {
     "data": {
      "text/plain": [
       "13.087903481226347"
      ]
     },
     "execution_count": 35,
     "metadata": {},
     "output_type": "execute_result"
    }
   ],
   "source": [
    "#拟合线性回归\n",
    "theta = np.ones(X.shape[1])\n",
    "final_theta = opt.minimize(fun=costReg,x0=theta,args=(X,y,0),method='TNC',jac=gradientReg)\n",
    "final_theta['x'][0]"
   ]
  },
  {
   "cell_type": "code",
   "execution_count": 37,
   "metadata": {},
   "outputs": [
    {
     "data": {
      "text/plain": [
       "<function matplotlib.pyplot.show(close=None, block=None)>"
      ]
     },
     "execution_count": 37,
     "metadata": {},
     "output_type": "execute_result"
    },
    {
     "data": {
      "image/png": "[encoded data removed]",
      "text/plain": [
       "<Figure size 864x576 with 1 Axes>"
      ]
     },
     "metadata": {
      "needs_background": "light"
     },
     "output_type": "display_data"
    }
   ],
   "source": [
    "b = final_theta['x'][0]\n",
    "m = final_theta['x'][1]\n",
    "\n",
    "fig,ax = plt.subplots(figsize=(12,8))\n",
    "plt.scatter(X[:,1],y,c='r',label=\"trainig data\")\n",
    "plt.plot(X[:,1],X[:,1] * m + b,c='b',label=\"prediction\")\n",
    "ax.set_xlabel('water_lever')\n",
    "ax.set_ylabel('flow')\n",
    "ax.legend()\n",
    "plt.show"
   ]
  },
  {
   "cell_type": "code",
   "execution_count": 41,
   "metadata": {},
   "outputs": [],
   "source": [
    "def linear_regression(X, y, l=1):\n",
    "    \"\"\"linear regression\n",
    "    args:\n",
    "        X: feature matrix, (m, n+1) # with incercept x0=1\n",
    "        y: target vector, (m, )\n",
    "        l: lambda constant for regularization\n",
    "\n",
    "    return: trained parameters\n",
    "    \"\"\"\n",
    "    # init theta\n",
    "    theta = np.ones(X.shape[1])\n",
    "\n",
    "    # train it\n",
    "    res = opt.minimize(fun=costReg,\n",
    "                       x0=theta,\n",
    "                       args=(X, y, l),\n",
    "                       method='TNC',\n",
    "                       jac=gradientReg)\n",
    "    return res"
   ]
  },
  {
   "cell_type": "code",
   "execution_count": 42,
   "metadata": {},
   "outputs": [],
   "source": [
    "training_cost, cv_cost = [], []"
   ]
  },
  {
   "cell_type": "code",
   "execution_count": 43,
   "metadata": {},
   "outputs": [],
   "source": [
    "m = X.shape[0]\n",
    "for i in range(1, m+1):\n",
    "    res = linear_regression(X[:i, :], y[:i], 0)\n",
    "    \n",
    "    tc = costReg(res.x, X[:i, :], y[:i], 0)\n",
    "    cv = costReg(res.x, Xval, yval, 0)\n",
    "   \n",
    "    training_cost.append(tc)\n",
    "    cv_cost.append(cv)"
   ]
  },
  {
   "cell_type": "code",
   "execution_count": 44,
   "metadata": {},
   "outputs": [
    {
     "data": {
      "image/png": "[encoded data removed]",
      "text/plain": [
       "<Figure size 864x576 with 1 Axes>"
      ]
     },
     "metadata": {
      "needs_background": "light"
     },
     "output_type": "display_data"
    }
   ],
   "source": [
    "fig, ax = plt.subplots(figsize=(12,8))\n",
    "plt.plot(np.arange(1, m+1), training_cost, label='training cost')\n",
    "plt.plot(np.arange(1, m+1), cv_cost, label='cv cost')\n",
    "plt.legend()\n",
    "plt.show()"
   ]
  },
  {
   "cell_type": "code",
   "execution_count": null,
   "metadata": {},
   "outputs": [],
   "source": []
  }
 ],
 "metadata": {
  "kernelspec": {
   "display_name": "Python 3.7.13 ('pytorch')",
   "language": "python",
   "name": "python3"
  },
  "language_info": {
   "codemirror_mode": {
    "name": "ipython",
    "version": 3
   },
   "file_extension": ".py",
   "mimetype": "text/x-python",
   "name": "python",
   "nbconvert_exporter": "python",
   "pygments_lexer": "ipython3",
   "version": "3.7.13"
  },
  "orig_nbformat": 4,
  "vscode": {
   "interpreter": {
    "hash": "afbbf6a662a510dc16e76e9a9a7ec82952d44ae1770b269b8bdf00a9b2ab238d"
   }
  }
 },
 "nbformat": 4,
 "nbformat_minor": 2
}
