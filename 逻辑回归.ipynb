{
 "cells": [
  {
   "cell_type": "code",
   "execution_count": null,
   "metadata": {},
   "outputs": [],
   "source": [
    "import numpy as np\n",
    "import pandas as pd\n",
    "import matplotlib.pyplot as plt"
   ]
  },
  {
   "cell_type": "code",
   "execution_count": null,
   "metadata": {},
   "outputs": [],
   "source": [
    "path = '/home/teemo/ML/data/ex2data1.txt'\n",
    "data = pd.read_csv(path,header=None,names=['Exam 1', 'Exam 2', 'Admitted'])\n",
    "data.head()"
   ]
  },
  {
   "cell_type": "code",
   "execution_count": null,
   "metadata": {},
   "outputs": [],
   "source": [
    "from cProfile import label\n",
    "\n",
    "\n",
    "positive = data[data['Admitted'].isin([1])]\n",
    "negative = data[data['Admitted'].isin([0])]\n",
    "\n",
    "fig,ax = plt.subplots(figsize=(12,8))\n",
    "ax.scatter(positive['Exam 1'],positive['Exam 2'],s=50,c='b',marker='o',label='Admitted')\n",
    "ax.scatter(negative['Exam 1'],negative['Exam 2'],s=50,c='r',marker='x',label='Not Admitted')\n",
    "ax.legend()\n",
    "ax.set_xlabel('Exam 1 score')\n",
    "ax.set_ylabel('Exam 2 score')\n",
    "plt.show()\n"
   ]
  },
  {
   "cell_type": "code",
   "execution_count": null,
   "metadata": {},
   "outputs": [],
   "source": [
    "#sigmod函数\n",
    "def sigmoid(z):\n",
    "    return 1/(1+np.exp(-z))"
   ]
  },
  {
   "cell_type": "code",
   "execution_count": null,
   "metadata": {},
   "outputs": [],
   "source": [
    "#逻辑回归代价函数\n",
    "def cost(theta,x,y):\n",
    "    theta = np.matrix(theta)\n",
    "    x = np.matrix(x)\n",
    "    y = np.matrix(y)\n",
    "    first = np.multiply(-y,np.log(sigmoid(x * theta.T)))\n",
    "    second = np.multiply((1-y),np.log(1 - sigmoid(x * theta.T)))\n",
    "    return np.sum(first - second)/(len(x))    "
   ]
  },
  {
   "cell_type": "code",
   "execution_count": null,
   "metadata": {},
   "outputs": [],
   "source": [
    "data.insert(0,'ones',1)\n",
    "\n",
    "#初始化\n",
    "cols = data.shape[1]\n",
    "x = data.iloc[:,0:cols-1]\n",
    "y = data.iloc[:,cols-1:cols]\n",
    "theta = np.zeros(3)\n",
    "\n",
    "#转换类型\n",
    "x = np.array(x.values)\n",
    "y = np.array(y.values)\n"
   ]
  },
  {
   "cell_type": "code",
   "execution_count": null,
   "metadata": {},
   "outputs": [],
   "source": [
    "# 检查矩阵的维度\n",
    "x.shape, theta.shape, y.shape"
   ]
  },
  {
   "cell_type": "code",
   "execution_count": null,
   "metadata": {},
   "outputs": [],
   "source": [
    "# 用初始θ计算代价\n",
    "cost(theta, x, y)"
   ]
  },
  {
   "cell_type": "code",
   "execution_count": null,
   "metadata": {},
   "outputs": [],
   "source": [
    "# 实现梯度计算的函数（并没有更新θ）\n",
    "def gradient(theta, X, y):\n",
    "    theta = np.matrix(theta)\n",
    "    X = np.matrix(X)\n",
    "    y = np.matrix(y)\n",
    "    \n",
    "    parameters = int(theta.ravel().shape[1])\n",
    "    grad = np.zeros(parameters)\n",
    "    \n",
    "    error = sigmoid(X * theta.T) - y\n",
    "    \n",
    "    for i in range(parameters):\n",
    "        term = np.multiply(error, X[:,i])\n",
    "        grad[i] = np.sum(term) / len(X)\n",
    "    \n",
    "    return grad"
   ]
  },
  {
   "cell_type": "code",
   "execution_count": null,
   "metadata": {},
   "outputs": [],
   "source": [
    "from unittest import result\n",
    "import scipy.optimize as opt\n",
    "result = opt.fmin_tnc(func=cost,x0=theta,fprime=gradient,args=(x,y))"
   ]
  },
  {
   "cell_type": "code",
   "execution_count": null,
   "metadata": {},
   "outputs": [],
   "source": [
    "result"
   ]
  },
  {
   "cell_type": "code",
   "execution_count": null,
   "metadata": {},
   "outputs": [],
   "source": [
    "cost(result[0],x,y)"
   ]
  },
  {
   "cell_type": "code",
   "execution_count": null,
   "metadata": {},
   "outputs": [],
   "source": [
    "plotting_x1 = np.linspace(30, 100, 100)\n",
    "plotting_h1 = (-result[0][0]-result[0][1]*plotting_x1)/result[0][2]\n",
    "\n",
    "fig,ax = plt.subplots(figsize=(12,8))\n",
    "ax.plot(plotting_x1,plotting_h1,'y',label = 'Prediction')\n",
    "ax.scatter(positive['Exam 1'],positive['Exam 2'],s=50,c='b',marker='o',label='Admitted')\n",
    "ax.scatter(negative['Exam 1'],negative['Exam 2'],s=50,c='r',marker='x',label='Not Admitted')\n",
    "ax.legend()\n",
    "ax.set_xlabel('Exam1')\n",
    "ax.set_ylabel('Exam2')\n",
    "plt.show()\n"
   ]
  },
  {
   "cell_type": "code",
   "execution_count": null,
   "metadata": {},
   "outputs": [],
   "source": [
    "def hex(theta,x):\n",
    "    return sigmoid(x@theta.T)\n",
    "hex(result[0],[1,45,85])"
   ]
  },
  {
   "cell_type": "code",
   "execution_count": null,
   "metadata": {},
   "outputs": [],
   "source": [
    "def predict(theta,x):\n",
    "    probability = sigmoid(x * theta.T)\n",
    "    return [1 if x>0.5 else 0 for x in probability]\n"
   ]
  },
  {
   "cell_type": "code",
   "execution_count": null,
   "metadata": {},
   "outputs": [],
   "source": [
    "theta_min = np.matrix(result[0])\n",
    "predictions = predict(theta_min,x)\n",
    "correct = [1 if ((a==1 and b==1) or (a==0 and b==0)) else 0 for (a,b) in zip(predictions,y)]\n",
    "accuracy = (sum(map(int,correct)))/float(len(correct))*100\n",
    "print ('accuracy = {0}%'.format(accuracy))"
   ]
  },
  {
   "cell_type": "code",
   "execution_count": null,
   "metadata": {},
   "outputs": [],
   "source": [
    "#正则化逻辑回归\n",
    "path = '/home/teemo/ML/data/ex2data2.txt'\n",
    "data2 = pd.read_csv(path,header = None,names=['Test1','Test2','Accept'])\n",
    "data2.head()"
   ]
  },
  {
   "cell_type": "code",
   "execution_count": null,
   "metadata": {},
   "outputs": [],
   "source": [
    "positive = data2[data2['Accept'].isin([1])]\n",
    "negative = data2[data2['Accept'].isin([0])]\n",
    "\n",
    "fig,ax = plt.subplots(figsize=(12,8))\n",
    "ax.scatter(positive['Test1'],positive['Test2'],s=50,c='b',marker='o',label='Accept')\n",
    "ax.scatter(negative['Test1'],negative['Test2'],s=50,c='r',marker='x',label='Reject')\n",
    "ax.legend()\n",
    "ax.set_xlabel('Test 1 score')\n",
    "ax.set_ylabel('Test 2 score')\n",
    "plt.show()"
   ]
  },
  {
   "cell_type": "code",
   "execution_count": null,
   "metadata": {},
   "outputs": [],
   "source": [
    "#如果样本量多，逻辑回归问题很复杂，而原始特征只有x1,x2可以用多项式创建更多的特征x1、x2、x1x2、x1^2、x2^2、... X1^nX2^n。因为更多的特征进行逻辑回归时，得到的分割线可以是任意高阶函数的形状。\n",
    "degree = 6\n",
    "x1 = data2['Test1']\n",
    "x2 = data2['Test2']\n",
    "data2.insert(3,'ones',1)\n",
    "\n",
    "for i in range(1,degree+1):\n",
    "    for j in range(0,i+1):\n",
    "        data2['F'+str(i-j)+str(j)] = np.power(x1,i-j) * np.power(x2,j)\n",
    "\n",
    "data2.drop('Test1',axis=1,inplace=True)\n",
    "data2.drop('Test2',axis=1,inplace=True)\n",
    "\n",
    "\n",
    "data2.head()        "
   ]
  },
  {
   "cell_type": "code",
   "execution_count": null,
   "metadata": {},
   "outputs": [],
   "source": [
    "#实现正则化的代价函数\n",
    "def costReg(theta,x,y,leaning_rate):\n",
    "    theta = np.matrix(theta)\n",
    "    x = np.matrix(x)\n",
    "    y = np.matrix(y)\n",
    "    first = np.multiply(-y,np.log(sigmoid(x * theta.T)))\n",
    "    second = np.multiply((1-y),np.log(1-sigmoid(x * theta.T)))\n",
    "    #theta0不计算\n",
    "    reg = (leaning_rate/(2*len(x)))*np.sum(np.power(theta[:,1:theta.shape[1]],2))\n",
    "    \n",
    "    return np.sum(first - second)/len(x) + reg"
   ]
  },
  {
   "cell_type": "code",
   "execution_count": null,
   "metadata": {},
   "outputs": [],
   "source": [
    "#实现正则化的梯度函数\n",
    "def gradientReg(theta,x,y,learning_rate):\n",
    "    theta = np.matrix(theta)\n",
    "    x = np.matrix(x)\n",
    "    y = np.matrix(y)\n",
    "    \n",
    "    paramaters = int(theta.ravel().shape[1])\n",
    "    grad = np.zeros(paramaters)\n",
    "    \n",
    "    error = sigmoid(x * theta.T) - y\n",
    "    for i in range(paramaters):\n",
    "        temp = np.multiply(error,x[:,i])\n",
    "        \n",
    "        if i == 0 :\n",
    "            grad[i] = np.sum(temp)/len(x)\n",
    "        else :\n",
    "            grad[i] = (np.sum(temp)/len(x)) + ((learning_rate/len(x))*theta[:,i])\n",
    "    return grad\n",
    "            \n",
    "        \n",
    "    "
   ]
  },
  {
   "cell_type": "code",
   "execution_count": null,
   "metadata": {},
   "outputs": [],
   "source": [
    "cols = data2.shape[1]\n",
    "X2 = data2.iloc[:,1:cols]\n",
    "Y2 = data2.iloc[:,0:1]\n",
    "theta2 = np.zeros(cols - 1)\n",
    "\n",
    "X2 = np.array(X2.values)\n",
    "Y2 = np.array(Y2.values)\n",
    "\n",
    "learning_rate = 1"
   ]
  },
  {
   "cell_type": "code",
   "execution_count": null,
   "metadata": {},
   "outputs": [],
   "source": [
    "X2.shape,Y2.shape,theta2.shape\n",
    "theta2"
   ]
  },
  {
   "cell_type": "code",
   "execution_count": null,
   "metadata": {},
   "outputs": [],
   "source": [
    "costReg(theta2,X2,Y2,learning_rate)"
   ]
  },
  {
   "cell_type": "code",
   "execution_count": null,
   "metadata": {},
   "outputs": [],
   "source": [
    "result2 =  opt.fmin_tnc(func = costReg,x0 = theta2,fprime=gradientReg,args = (X2,Y2,learning_rate))\n",
    "result2"
   ]
  },
  {
   "cell_type": "code",
   "execution_count": null,
   "metadata": {},
   "outputs": [],
   "source": [
    "theta_min2 = np.matrix(result2[0])\n",
    "predictions2 = predict(theta_min2,X2)\n",
    "correct = [1 if((a==1 and b==1) or (a == 0 and b == 0)) else 0 for (a,b) in zip(predictions2,Y2)]\n",
    "accuracy = sum(map(int,correct))/len(correct)*100\n",
    "print(\"accuracy:%.2f%% \" %(accuracy))"
   ]
  },
  {
   "cell_type": "code",
   "execution_count": null,
   "metadata": {},
   "outputs": [],
   "source": [
    "def hfun2(theta2,x1,x2):\n",
    "    temp = theta2[0][0]\n",
    "    place = 0\n",
    "    for i in range(1, degree+1):\n",
    "        for j in range(0, i+1):\n",
    "            temp += np.power(x1, i-j) * np.power(x2, j) * theta2[0][place+1]\n",
    "            place+=1\n",
    "    return temp"
   ]
  },
  {
   "cell_type": "code",
   "execution_count": null,
   "metadata": {},
   "outputs": [],
   "source": [
    "def find_boundary(theta2):\n",
    "    t1 = np.linspace(-1,1.5,1000)\n",
    "    t2 = np.linspace(-1,1.5,1000)\n",
    "    \n",
    "    cordinates = [(a,b) for a in t1 for b in t2 ]\n",
    "    x_cord,y_cord = zip(*cordinates)\n",
    "    h_val = pd.DataFrame({'x1':x_cord,'x2':y_cord})\n",
    "    h_val['hval'] = hfun2(theta2,h_val['x1'],h_val['x2'])\n",
    "    \n",
    "    decision = h_val[np.abs(h_val['hval']) < 2 * 10**-3]\n",
    "    return decision.x1, decision.x2\n",
    "    \n",
    "           "
   ]
  },
  {
   "cell_type": "code",
   "execution_count": null,
   "metadata": {},
   "outputs": [],
   "source": [
    "def find_decision_boundary(theta):\n",
    "    t1 = np.linspace(-1, 1.5, 1000)\n",
    "    t2 = np.linspace(-1, 1.5, 1000)\n",
    "\n",
    "    cordinates = [(x, y) for x in t1 for y in t2]\n",
    "    x_cord, y_cord = zip(*cordinates)\n",
    "    h_val = pd.DataFrame({'x1':x_cord, 'x2':y_cord})\n",
    "    h_val['hval'] = hfunc2(theta, h_val['x1'], h_val['x2'])\n",
    "\n",
    "    decision = h_val[np.abs(h_val['hval']) < 2 * 10**-3]\n",
    "    return decision.x1, decision.x2"
   ]
  },
  {
   "cell_type": "code",
   "execution_count": null,
   "metadata": {},
   "outputs": [],
   "source": [
    "#画出决策曲线\n",
    "fig,ax = plt.subplots(figsize=(12,8))\n",
    "ax.scatter(positive['Test1'],positive['Test2'],s=50,c='b',marker='o',label='Accept')\n",
    "ax.scatter(negative['Test1'],negative['Test2'],s=50,c='r',marker='x',label='Reject')\n",
    "\n",
    "\n",
    "ax.set_xlabel('Test1')\n",
    "ax.set_ylabel('Test2')\n",
    "x,y = find_boundary(result2)\n",
    "ax.scatter(x,y,c='y',s=10,label = 'predictions')\n",
    "ax.legend()\n",
    "\n",
    "plt.show()"
   ]
  },
  {
   "cell_type": "code",
   "execution_count": 135,
   "metadata": {},
   "outputs": [
    {
     "name": "stderr",
     "output_type": "stream",
     "text": [
      "  NIT   NF   F                       GTG\n",
      "    0    1  6.931471805599454E-01   1.28006529E-02\n",
      "    1    6  5.756386278665839E-01   4.25404594E-04\n",
      "tnc: fscale = 48.4841\n",
      "    2   10  5.735037680713952E-01   1.33140539E-05\n",
      "    3   13  5.734022740975399E-01   4.61506037E-07\n",
      "tnc: fscale = 1472.01\n",
      "    4   18  5.733984876456204E-01   3.83580490E-09\n",
      "    5   22  5.733984542587027E-01   1.31572455E-10\n",
      "tnc: fscale = 87180.1\n",
      "tnc: |fn-fn-1] = 2.59905e-09 -> convergence\n",
      "    6   25  5.733984516596488E-01   3.37923249E-11\n",
      "tnc: Converged (|f_n-f_(n-1)| ~= 0)\n"
     ]
    }
   ],
   "source": [
    "learningRate2 = 2\n",
    "result3 = opt.fmin_tnc(func=costReg, x0=theta2, fprime=gradientReg, args=(X2, Y2, learningRate2))"
   ]
  },
  {
   "cell_type": "code",
   "execution_count": 136,
   "metadata": {},
   "outputs": [
    {
     "data": {
      "image/png": "[encoded data removed]",
      "text/plain": [
       "<Figure size 864x576 with 1 Axes>"
      ]
     },
     "metadata": {
      "needs_background": "light"
     },
     "output_type": "display_data"
    }
   ],
   "source": [
    "\n",
    "#画出决策曲线(lamda =0 过拟合情况 以及 =100 欠拟合情况)\n",
    "fig,ax = plt.subplots(figsize=(12,8))\n",
    "ax.scatter(positive['Test1'],positive['Test2'],s=50,c='b',marker='o',label='Accept')\n",
    "ax.scatter(negative['Test1'],negative['Test2'],s=50,c='r',marker='x',label='Reject')\n",
    "\n",
    "\n",
    "ax.set_xlabel('Test1')\n",
    "ax.set_ylabel('Test2')\n",
    "x,y = find_boundary(result3)\n",
    "ax.scatter(x,y,c='y',s=10,label = 'predictions')\n",
    "ax.legend()\n",
    "\n",
    "plt.show()"
   ]
  },
  {
   "cell_type": "code",
   "execution_count": null,
   "metadata": {},
   "outputs": [],
   "source": []
  }
 ],
 "metadata": {
  "kernelspec": {
   "display_name": "Python 3.7.13 ('pytorch')",
   "language": "python",
   "name": "python3"
  },
  "language_info": {
   "codemirror_mode": {
    "name": "ipython",
    "version": 3
   },
   "file_extension": ".py",
   "mimetype": "text/x-python",
   "name": "python",
   "nbconvert_exporter": "python",
   "pygments_lexer": "ipython3",
   "version": "3.7.13"
  },
  "orig_nbformat": 4,
  "vscode": {
   "interpreter": {
    "hash": "afbbf6a662a510dc16e76e9a9a7ec82952d44ae1770b269b8bdf00a9b2ab238d"
   }
  }
 },
 "nbformat": 4,
 "nbformat_minor": 2
}
